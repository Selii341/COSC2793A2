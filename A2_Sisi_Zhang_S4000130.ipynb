{
  "cells": [
    {
      "cell_type": "markdown",
      "metadata": {
        "id": "view-in-github",
        "colab_type": "text"
      },
      "source": [
        "<a href=\"https://colab.research.google.com/github/Selii341/COSC2793A2/blob/main/A2_Sisi_Zhang_S4000130.ipynb\" target=\"_parent\"><img src=\"https://colab.research.google.com/assets/colab-badge.svg\" alt=\"Open In Colab\"/></a>"
      ]
    },
    {
      "cell_type": "markdown",
      "id": "3f4571ae",
      "metadata": {
        "id": "3f4571ae"
      },
      "source": [
        "# 1.Data Prepeartaion"
      ]
    },
    {
      "cell_type": "code",
      "execution_count": null,
      "id": "bf776491",
      "metadata": {
        "id": "bf776491"
      },
      "outputs": [],
      "source": [
        "import pandas as pd\n",
        "import matplotlib.pyplot as plt\n",
        "import seaborn as sns\n",
        "import numpy as np"
      ]
    },
    {
      "cell_type": "markdown",
      "id": "a51d33dd",
      "metadata": {
        "id": "a51d33dd"
      },
      "source": [
        "## 1.1 Loading Data"
      ]
    },
    {
      "cell_type": "code",
      "execution_count": null,
      "id": "a1094b3f",
      "metadata": {
        "id": "a1094b3f",
        "outputId": "e1b55787-2886-43cd-8fbb-530d3a81c343"
      },
      "outputs": [
        {
          "name": "stdout",
          "output_type": "stream",
          "text": [
            "\u001b[34mA1\u001b[m\u001b[m                           \u001b[34mUCI-electricity\u001b[m\u001b[m\r\n",
            "A2_Sisi Zhang_S4000130.ipynb \u001b[34m__MACOSX\u001b[m\u001b[m\r\n"
          ]
        }
      ],
      "source": [
        "#Unzip the File\n",
        "!unzip -q -o UCI-electricity.zip\n",
        "!rm UCI-electricity.zip\n",
        "!ls"
      ]
    },
    {
      "cell_type": "code",
      "execution_count": null,
      "id": "ac96c33e",
      "metadata": {
        "id": "ac96c33e"
      },
      "outputs": [],
      "source": [
        "data = pd.read_csv(\"UCI-electricity/UCI_data.csv\",delimiter=',')"
      ]
    },
    {
      "cell_type": "code",
      "execution_count": null,
      "id": "676f6f93",
      "metadata": {
        "id": "676f6f93",
        "outputId": "694adaab-a0ec-4cd8-f3d6-feec4de60976"
      },
      "outputs": [
        {
          "data": {
            "text/html": [
              "<div>\n",
              "<style scoped>\n",
              "    .dataframe tbody tr th:only-of-type {\n",
              "        vertical-align: middle;\n",
              "    }\n",
              "\n",
              "    .dataframe tbody tr th {\n",
              "        vertical-align: top;\n",
              "    }\n",
              "\n",
              "    .dataframe thead th {\n",
              "        text-align: right;\n",
              "    }\n",
              "</style>\n",
              "<table border=\"1\" class=\"dataframe\">\n",
              "  <thead>\n",
              "    <tr style=\"text-align: right;\">\n",
              "      <th></th>\n",
              "      <th>date</th>\n",
              "      <th>T1</th>\n",
              "      <th>RH_1</th>\n",
              "      <th>T2</th>\n",
              "      <th>RH_2</th>\n",
              "      <th>T3</th>\n",
              "      <th>RH_3</th>\n",
              "      <th>T4</th>\n",
              "      <th>RH_4</th>\n",
              "      <th>T5</th>\n",
              "      <th>...</th>\n",
              "      <th>RH_9</th>\n",
              "      <th>T_out</th>\n",
              "      <th>Press_mm_hg</th>\n",
              "      <th>RH_out</th>\n",
              "      <th>Windspeed</th>\n",
              "      <th>Visibility</th>\n",
              "      <th>Tdewpoint</th>\n",
              "      <th>rv1</th>\n",
              "      <th>rv2</th>\n",
              "      <th>TARGET_energy</th>\n",
              "    </tr>\n",
              "  </thead>\n",
              "  <tbody>\n",
              "    <tr>\n",
              "      <th>0</th>\n",
              "      <td>2016-04-19 20:30:00</td>\n",
              "      <td>22.200000</td>\n",
              "      <td>39.500000</td>\n",
              "      <td>20.566667</td>\n",
              "      <td>37.656667</td>\n",
              "      <td>22.230000</td>\n",
              "      <td>37.030000</td>\n",
              "      <td>22.318571</td>\n",
              "      <td>36.610000</td>\n",
              "      <td>20.633333</td>\n",
              "      <td>...</td>\n",
              "      <td>33.90</td>\n",
              "      <td>9.70</td>\n",
              "      <td>766.100000</td>\n",
              "      <td>65.5</td>\n",
              "      <td>3.500000</td>\n",
              "      <td>40.000000</td>\n",
              "      <td>3.350000</td>\n",
              "      <td>24.061869</td>\n",
              "      <td>24.061869</td>\n",
              "      <td>60</td>\n",
              "    </tr>\n",
              "    <tr>\n",
              "      <th>1</th>\n",
              "      <td>2016-03-05 04:40:00</td>\n",
              "      <td>20.356667</td>\n",
              "      <td>37.126667</td>\n",
              "      <td>17.566667</td>\n",
              "      <td>40.230000</td>\n",
              "      <td>20.890000</td>\n",
              "      <td>37.663333</td>\n",
              "      <td>18.700000</td>\n",
              "      <td>36.260000</td>\n",
              "      <td>18.463333</td>\n",
              "      <td>...</td>\n",
              "      <td>41.09</td>\n",
              "      <td>0.30</td>\n",
              "      <td>740.333333</td>\n",
              "      <td>99.0</td>\n",
              "      <td>1.000000</td>\n",
              "      <td>41.333333</td>\n",
              "      <td>0.100000</td>\n",
              "      <td>4.622052</td>\n",
              "      <td>4.622052</td>\n",
              "      <td>50</td>\n",
              "    </tr>\n",
              "    <tr>\n",
              "      <th>2</th>\n",
              "      <td>2016-03-14 12:40:00</td>\n",
              "      <td>20.926667</td>\n",
              "      <td>38.790000</td>\n",
              "      <td>21.100000</td>\n",
              "      <td>35.526667</td>\n",
              "      <td>21.600000</td>\n",
              "      <td>36.290000</td>\n",
              "      <td>21.000000</td>\n",
              "      <td>34.826667</td>\n",
              "      <td>18.100000</td>\n",
              "      <td>...</td>\n",
              "      <td>38.76</td>\n",
              "      <td>4.40</td>\n",
              "      <td>768.466667</td>\n",
              "      <td>72.0</td>\n",
              "      <td>6.000000</td>\n",
              "      <td>22.666667</td>\n",
              "      <td>-0.266667</td>\n",
              "      <td>5.635898</td>\n",
              "      <td>5.635898</td>\n",
              "      <td>80</td>\n",
              "    </tr>\n",
              "    <tr>\n",
              "      <th>3</th>\n",
              "      <td>2016-01-22 15:30:00</td>\n",
              "      <td>18.290000</td>\n",
              "      <td>38.900000</td>\n",
              "      <td>17.290000</td>\n",
              "      <td>39.260000</td>\n",
              "      <td>18.390000</td>\n",
              "      <td>39.326667</td>\n",
              "      <td>16.100000</td>\n",
              "      <td>38.790000</td>\n",
              "      <td>16.100000</td>\n",
              "      <td>...</td>\n",
              "      <td>39.20</td>\n",
              "      <td>3.35</td>\n",
              "      <td>760.600000</td>\n",
              "      <td>82.0</td>\n",
              "      <td>5.500000</td>\n",
              "      <td>41.000000</td>\n",
              "      <td>0.500000</td>\n",
              "      <td>49.216445</td>\n",
              "      <td>49.216445</td>\n",
              "      <td>40</td>\n",
              "    </tr>\n",
              "    <tr>\n",
              "      <th>4</th>\n",
              "      <td>2016-02-10 00:40:00</td>\n",
              "      <td>22.290000</td>\n",
              "      <td>42.333333</td>\n",
              "      <td>21.600000</td>\n",
              "      <td>40.433333</td>\n",
              "      <td>22.666667</td>\n",
              "      <td>43.363333</td>\n",
              "      <td>19.100000</td>\n",
              "      <td>40.900000</td>\n",
              "      <td>19.290000</td>\n",
              "      <td>...</td>\n",
              "      <td>43.73</td>\n",
              "      <td>3.20</td>\n",
              "      <td>738.900000</td>\n",
              "      <td>88.0</td>\n",
              "      <td>7.333333</td>\n",
              "      <td>56.000000</td>\n",
              "      <td>1.400000</td>\n",
              "      <td>47.617579</td>\n",
              "      <td>47.617579</td>\n",
              "      <td>60</td>\n",
              "    </tr>\n",
              "  </tbody>\n",
              "</table>\n",
              "<p>5 rows × 28 columns</p>\n",
              "</div>"
            ],
            "text/plain": [
              "                  date         T1       RH_1         T2       RH_2         T3  \\\n",
              "0  2016-04-19 20:30:00  22.200000  39.500000  20.566667  37.656667  22.230000   \n",
              "1  2016-03-05 04:40:00  20.356667  37.126667  17.566667  40.230000  20.890000   \n",
              "2  2016-03-14 12:40:00  20.926667  38.790000  21.100000  35.526667  21.600000   \n",
              "3  2016-01-22 15:30:00  18.290000  38.900000  17.290000  39.260000  18.390000   \n",
              "4  2016-02-10 00:40:00  22.290000  42.333333  21.600000  40.433333  22.666667   \n",
              "\n",
              "        RH_3         T4       RH_4         T5  ...   RH_9  T_out  Press_mm_hg  \\\n",
              "0  37.030000  22.318571  36.610000  20.633333  ...  33.90   9.70   766.100000   \n",
              "1  37.663333  18.700000  36.260000  18.463333  ...  41.09   0.30   740.333333   \n",
              "2  36.290000  21.000000  34.826667  18.100000  ...  38.76   4.40   768.466667   \n",
              "3  39.326667  16.100000  38.790000  16.100000  ...  39.20   3.35   760.600000   \n",
              "4  43.363333  19.100000  40.900000  19.290000  ...  43.73   3.20   738.900000   \n",
              "\n",
              "   RH_out  Windspeed  Visibility  Tdewpoint        rv1        rv2  \\\n",
              "0    65.5   3.500000   40.000000   3.350000  24.061869  24.061869   \n",
              "1    99.0   1.000000   41.333333   0.100000   4.622052   4.622052   \n",
              "2    72.0   6.000000   22.666667  -0.266667   5.635898   5.635898   \n",
              "3    82.0   5.500000   41.000000   0.500000  49.216445  49.216445   \n",
              "4    88.0   7.333333   56.000000   1.400000  47.617579  47.617579   \n",
              "\n",
              "   TARGET_energy  \n",
              "0             60  \n",
              "1             50  \n",
              "2             80  \n",
              "3             40  \n",
              "4             60  \n",
              "\n",
              "[5 rows x 28 columns]"
            ]
          },
          "execution_count": 10,
          "metadata": {},
          "output_type": "execute_result"
        }
      ],
      "source": [
        "data.head()"
      ]
    },
    {
      "cell_type": "markdown",
      "id": "167d0081",
      "metadata": {
        "id": "167d0081"
      },
      "source": [
        "The ID columns is useless here,We will drop it later."
      ]
    },
    {
      "cell_type": "code",
      "execution_count": null,
      "id": "d52dde95",
      "metadata": {
        "id": "d52dde95"
      },
      "outputs": [],
      "source": [
        "data.describe()"
      ]
    },
    {
      "cell_type": "markdown",
      "id": "828eb480",
      "metadata": {
        "id": "828eb480"
      },
      "source": [
        "Describing the dataset. The dataset consists of examples from 193 different countries from different years. It is shown that minimum value for year is 2002 and maximum is 2017; it consists of 15 year period. Also the status column is binary. The population column has huge values in it, which is expected. The values can be showed as millions.However, The SLS dsitribution will be very skewed and some minumum value is zero,we will check them later."
      ]
    },
    {
      "cell_type": "code",
      "execution_count": null,
      "id": "c42d59db",
      "metadata": {
        "scrolled": true,
        "id": "c42d59db"
      },
      "outputs": [],
      "source": [
        "data.info()"
      ]
    },
    {
      "cell_type": "markdown",
      "id": "7e7498e2",
      "metadata": {
        "id": "7e7498e2"
      },
      "source": [
        "No missing values and all datatype is constructed well.All float are the countinous number,some of int is the Category number i.e. Country,Year and Status."
      ]
    },
    {
      "cell_type": "code",
      "execution_count": null,
      "id": "7693d52d",
      "metadata": {
        "id": "7693d52d"
      },
      "outputs": [],
      "source": [
        "data.shape"
      ]
    },
    {
      "cell_type": "markdown",
      "id": "c46570e0",
      "metadata": {
        "id": "c46570e0"
      },
      "source": [
        "Now checking shape of dataset which will return the value of number of Rows and Columns.There are 24 Columns and 2071 rows."
      ]
    },
    {
      "cell_type": "markdown",
      "id": "b84ff7dc",
      "metadata": {
        "id": "b84ff7dc"
      },
      "source": [
        "## 1.2 Cleaning  Data"
      ]
    },
    {
      "cell_type": "code",
      "execution_count": null,
      "id": "7a3d3178",
      "metadata": {
        "id": "7a3d3178"
      },
      "outputs": [],
      "source": [
        "#Status checking\n",
        "print(set((data['Status']).astype(int)))"
      ]
    },
    {
      "cell_type": "code",
      "execution_count": null,
      "id": "e2fe4d2f",
      "metadata": {
        "scrolled": true,
        "id": "e2fe4d2f"
      },
      "outputs": [],
      "source": [
        "#Missing value\n",
        "data.isnull().sum()"
      ]
    },
    {
      "cell_type": "code",
      "execution_count": null,
      "id": "a5c49b19",
      "metadata": {
        "id": "a5c49b19"
      },
      "outputs": [],
      "source": [
        "#Population Zoom Out\n",
        "data['Population'] = data['Population']/1000000\n",
        "data"
      ]
    },
    {
      "cell_type": "code",
      "execution_count": null,
      "id": "b4c69252",
      "metadata": {
        "id": "b4c69252"
      },
      "outputs": [],
      "source": [
        "#Rename the columns thinness  1-19 years to match the feature description\n",
        "data.rename(columns={'Thinness1-19years':'Thinness10-19years'}, inplace=True)"
      ]
    },
    {
      "cell_type": "code",
      "execution_count": null,
      "id": "9efca479",
      "metadata": {
        "id": "9efca479"
      },
      "outputs": [],
      "source": [
        "#Checking the data again\n",
        "data.describe()"
      ]
    },
    {
      "cell_type": "markdown",
      "id": "915d4f96",
      "metadata": {
        "id": "915d4f96"
      },
      "source": [
        "In total, AdultMortality, AdultMortality-Male and\n",
        "AdultMortality-Female are very similar in each value."
      ]
    },
    {
      "cell_type": "code",
      "execution_count": null,
      "id": "8a435398",
      "metadata": {
        "id": "8a435398"
      },
      "outputs": [],
      "source": [
        "#Looking at the name of columns which can be used later.\n",
        "data.columns"
      ]
    },
    {
      "cell_type": "code",
      "execution_count": null,
      "id": "969107a5",
      "metadata": {
        "id": "969107a5"
      },
      "outputs": [],
      "source": [
        "#Checking any repeat rows which are meaningless.\n",
        "data.duplicated().any()"
      ]
    },
    {
      "cell_type": "markdown",
      "id": "eadb468e",
      "metadata": {
        "id": "eadb468e"
      },
      "source": [
        "# 2. EDA Data distribution\n"
      ]
    }
  ],
  "metadata": {
    "kernelspec": {
      "display_name": "Python 3 (ipykernel)",
      "language": "python",
      "name": "python3"
    },
    "language_info": {
      "codemirror_mode": {
        "name": "ipython",
        "version": 3
      },
      "file_extension": ".py",
      "mimetype": "text/x-python",
      "name": "python",
      "nbconvert_exporter": "python",
      "pygments_lexer": "ipython3",
      "version": "3.11.4"
    },
    "toc": {
      "base_numbering": 1,
      "nav_menu": {},
      "number_sections": true,
      "sideBar": true,
      "skip_h1_title": false,
      "title_cell": "Table of Contents",
      "title_sidebar": "Contents",
      "toc_cell": false,
      "toc_position": {
        "height": "782.133px",
        "left": "32px",
        "top": "156.333px",
        "width": "395.067px"
      },
      "toc_section_display": true,
      "toc_window_display": true
    },
    "colab": {
      "provenance": [],
      "include_colab_link": true
    }
  },
  "nbformat": 4,
  "nbformat_minor": 5
}